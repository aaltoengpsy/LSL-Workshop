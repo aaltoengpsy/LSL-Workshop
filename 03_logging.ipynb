{
 "cells": [
  {
   "cell_type": "markdown",
   "metadata": {},
   "source": [
    "# Logging\n",
    "\n",
    "You should now have a fairly good grasp of streaming data with LSL. So far we've only logged data temporarily using the system terminal output. In this part we'll take a quick look at how we can output data and timestamps to a CSV file. If you already are familiar with file operations in Python, you might not need this part."
   ]
  },
  {
   "cell_type": "markdown",
   "metadata": {},
   "source": [
    "## Writing to a CSV File in Python\n",
    "\n",
    "The built-in `csv` library makes CSV operations really easy. Let's take a look at how we would write a row to a new file."
   ]
  },
  {
   "cell_type": "code",
   "execution_count": 9,
   "metadata": {},
   "outputs": [],
   "source": [
    "import csv\n",
    "\n",
    "with open('./csv-example.csv', mode = 'w') as file:                     # Open our example file in write mode. If it doesn't exist, create it.\n",
    "    writer = csv.writer(file, delimiter = ',')                          # Create a new writer object that can be used to write to our file. Values are separated with a comma (delimiter).\n",
    "    writer.writerow(['column_1', 'column_2', 'column_3'])               # Write a row with three columns (an array with 3 values) to the file.\n",
    "\n",
    "    file.close()                                                        # Close the file"
   ]
  },
  {
   "cell_type": "markdown",
   "metadata": {},
   "source": [
    "There is one particularly notable thing about the code above. When we're opening the file (`open`), we specify the mode as `w`, for write. This will always create a new file, *even if one exists already*, meaning that **attempting to reopen a file in `w` mode will always erase its previous contents!** You can try this out by running the cell above multiple times.\n",
    "\n",
    "Change the mode from `w` to `a` (append). What happens when you repeatedly run the cell?\n",
    "\n",
    "You can also write multiple rows at a time, instead of calling `writerow` repeatedly:"
   ]
  },
  {
   "cell_type": "code",
   "execution_count": 10,
   "metadata": {},
   "outputs": [],
   "source": [
    "# Define the rows we want to write. Each row is an array of values.\n",
    "rows_to_write = [                                   \n",
    "    ['col_1', 'col_2', 'col_3'],\n",
    "    [1.23, 3.42, 6.6],\n",
    "    [0.95, 2.98, 7.1]\n",
    "]\n",
    "\n",
    "with open('./csv-example.csv', mode = 'w') as file:                     # Create a new file (w) to save data to\n",
    "    writer = csv.writer(file, delimiter = ',')                          \n",
    "    writer.writerows(rows_to_write)                                     # Write our rows to the file\n",
    "\n",
    "    file.close()                                                        "
   ]
  },
  {
   "cell_type": "markdown",
   "metadata": {},
   "source": [
    "Writing multiple rows at a time is especially handy when you are trying to write a lot of data. This should reduce system overhead as the file does not need to be opened and closed repeatedly in quick succession."
   ]
  },
  {
   "cell_type": "markdown",
   "metadata": {},
   "source": [
    "## Logging LSL Data\n",
    "\n",
    "We've already seen how to print data to the system output (terminal). With our newfound knowledge of CSV operations, we can easily write LSL data to a separate file.\n",
    "\n",
    "Let's start by quickly wrapping our writing operation into a function that will take a timestamp, data type and data value as parameters and write them into a 3-column CSV file."
   ]
  },
  {
   "cell_type": "code",
   "execution_count": null,
   "metadata": {},
   "outputs": [],
   "source": [
    "import csv\n",
    "\n",
    "def write_data(ts, type, value):\n",
    "    with open('./csv-example-lsl.csv', mode = 'a') as file:                     \n",
    "        writer = csv.writer(file, delimiter = ',')                          \n",
    "        writer.writerow([ts, type, value])"
   ]
  },
  {
   "cell_type": "markdown",
   "metadata": {},
   "source": [
    "Then, let's bring over some familiar-looking code from part 2. These functions create an outlet and an inlet, as well as help push and pull samples as streams in the LSL network. Note that we've added the pulled sampels and timestamp as a `return` value to `pull_random_sample`."
   ]
  },
  {
   "cell_type": "code",
   "execution_count": null,
   "metadata": {},
   "outputs": [],
   "source": [
    "from pylsl import StreamInfo, StreamOutlet, StreamInlet, resolve_stream\n",
    "import time\n",
    "import random\n",
    "\n",
    "def create_outlet():\n",
    "    name = 'workshop_outlet'                                                                \n",
    "    type = 'single_stream'                                                                  \n",
    "    n_of_channels = 1                                                                       \n",
    "    samping_rate = 1                                                                        \n",
    "    value_type = 'float32'                                                                  \n",
    "    outlet_id = 'workshop_outlet_1234'                                                      \n",
    "\n",
    "    stream = StreamInfo(name, type, n_of_channels, samping_rate, value_type, outlet_id)     \n",
    "    outlet = StreamOutlet(stream)                                                           \n",
    "\n",
    "    return outlet\n",
    "\n",
    "def output_random_sample(target_outlet):\n",
    "    random_sample = round(random.random(), 2)                                               \n",
    "    print('Outputting random sample:', random_sample)                                       \n",
    "\n",
    "    target_outlet.push_sample([random_sample])                                              \n",
    "\n",
    "def create_inlet():\n",
    "    stream = resolve_stream('source_id', 'workshop_outlet_1234')[0]                     \n",
    "    inlet = StreamInlet(stream)                                                         \n",
    "    return inlet\n",
    "\n",
    "def pull_random_sample(source_inlet):\n",
    "    samples, ts = source_inlet.pull_sample()\n",
    "    print('Received sample:', samples[0], 'with timestamp', ts)\n",
    "    return samples, ts"
   ]
  },
  {
   "cell_type": "markdown",
   "metadata": {},
   "source": [
    "Finally, let's modify the demo code so that pulled samples are written to a file using our helper function we just defined (`write_data(ts, type, value)`). Note that our CSV file should probably contain headers for easy handling afterwards, so we'll initialize the file in `w` mode when the script is first run. You could also do this with our `write_data` function, but it's been set to open files in `a` mode, meaning that the file from the previous run would not be deleted. Of course, you could always parameterize the write mode for the `write_data` function."
   ]
  },
  {
   "cell_type": "code",
   "execution_count": null,
   "metadata": {},
   "outputs": [],
   "source": [
    "from threading import Thread\n",
    "from IPython.display import clear_output\n",
    "\n",
    "clear_output()\n",
    "\n",
    "# Initialize the log file with headers!\n",
    "\n",
    "with open('./csv-example-lsl.csv', mode = 'w') as file:             # Old file is DELETED when the script starts running  \n",
    "    writer = csv.writer(file, delimiter = ',')                          \n",
    "    writer.writerow(['ts', 'type', 'value'])                        # Headers for the three columns\n",
    "\n",
    "\n",
    "run_time = 20                                                       # Samples will be generated and collected for 20 seconds\n",
    "\n",
    "# Demo: Run the sampler & outlet in a separate CPU thread to circumvent Jupyter limitations\n",
    "# You probably don't need/want to do this in any real-world application (not threading, just running the outlet & inlet in a single script)\n",
    "\n",
    "def run_sampling(run_time):                              \n",
    "    outlet = create_outlet()\n",
    "\n",
    "    while run_time > 0:\n",
    "        output_random_sample(outlet)\n",
    "        time.sleep(1)                                               # Artifically sleep for 1s between samples (1Hz sampling rate)\n",
    "        run_time -= 1                                               # n-1 seconds left for sampling\n",
    "    \n",
    "    print('Sample output complete!')\n",
    "\n",
    "sampler = Thread(target = run_sampling, args = [run_time])          # Assign our outlet to a separate CPU thread\n",
    "sampler.start()\n",
    "\n",
    "# Pull samples from the network AND WRITE THEM TO A FILE\n",
    "\n",
    "inlet = create_inlet()\n",
    "\n",
    "while run_time > 0:\n",
    "    samples, sample_ts = pull_random_sample(inlet)                      # Pull the sample(s) and timestamp from the outlet\n",
    "    write_data(ts = sample_ts, type = 'rand_float', value = samples[0]) # Write our data to the file using our writing function.\n",
    "\n",
    "    run_time -= 1                                                   # the run_time variable has separate instances for this main thread and the sampling thread so we have to deduct this here as well\n",
    "\n",
    "inlet.close_stream()                                                # Close the inlet! This allows our program to finish. Otherwise, LSL will hang indefinitely waiting to reconnect. This is a great safety feature but for the demo a bit annoying..."
   ]
  }
 ],
 "metadata": {
  "kernelspec": {
   "display_name": "stat",
   "language": "python",
   "name": "python3"
  },
  "language_info": {
   "codemirror_mode": {
    "name": "ipython",
    "version": 3
   },
   "file_extension": ".py",
   "mimetype": "text/x-python",
   "name": "python",
   "nbconvert_exporter": "python",
   "pygments_lexer": "ipython3",
   "version": "3.12.1"
  }
 },
 "nbformat": 4,
 "nbformat_minor": 2
}
