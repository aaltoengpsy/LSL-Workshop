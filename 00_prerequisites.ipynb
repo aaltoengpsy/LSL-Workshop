{
 "cells": [
  {
   "cell_type": "markdown",
   "metadata": {},
   "source": [
    "# LSL Workshop Prerequisites\n",
    "\n",
    "1. Set up a conda environment following the BITalino quickstart on Dropbox\n",
    "\n",
    "2. Test the installation by running the code block below\n",
    "    - Change the `device_mac_address` variable to that of the device you paired to your computer.\n",
    "    - You don't need to have any sensors connected to the BITalino in order to run the script.\n",
    "    - The test script runs indefinitely. To stop it, press the stop button next to the code cell."
   ]
  },
  {
   "cell_type": "code",
   "execution_count": null,
   "metadata": {},
   "outputs": [],
   "source": [
    "from bitalino import BITalino\n",
    "\n",
    "'''\n",
    "Specify device configuration:\n",
    "- MAC address is a unique identifier that is used to connect to the BITalino you have paired\n",
    "- Which channels data is collected from (these are zero-index counterparts of the A1-A6 ports on the BITalino; i.e. 0 = A1, 1 = A2, etc.)\n",
    "- The sampling rate that data is collected at (Hz; samples / second)\n",
    "- Samping type. 10-bit is recommended, but 6-bit is also available for novel applications.\n",
    "'''\n",
    "device_mac_address = \"MY:BITALINO:MAC:ADDRESS:HERE\"\n",
    "active_channels = [0, 1, 2, 3, 4, 5]    # Collect data from all channels (A1-A6)\n",
    "sample_rate = 100                       # Available values are 1, 10, 100, 1000\n",
    "bit_depth = 10                          # 10-bit sampling. 6-bit sampling is also available\n",
    "\n",
    "# Connect to the specified BITalino\n",
    "device = BITalino(device_mac_address)          \n",
    "\n",
    "# Start sampling\n",
    "device.start(sample_rate, active_channels)\n",
    "\n",
    "while True:\n",
    "    print(device.read(bit_depth))"
   ]
  }
 ],
 "metadata": {
  "language_info": {
   "name": "python"
  }
 },
 "nbformat": 4,
 "nbformat_minor": 2
}
