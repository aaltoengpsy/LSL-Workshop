{
 "cells": [
  {
   "cell_type": "markdown",
   "metadata": {},
   "source": [
    "# LSL Workshop Prerequisites"
   ]
  },
  {
   "cell_type": "markdown",
   "metadata": {},
   "source": [
    "# Part 1\n",
    "\n",
    "The first part of the workshop focuses on explaining the core concepts of LSL, so no configuration is required. However, to get the most out of the workshop, you'll want to go through parts 2 through 4 as well."
   ]
  },
  {
   "cell_type": "markdown",
   "metadata": {},
   "source": [
    "\n",
    "## Parts 2-3: LSL Configuration\n",
    "\n",
    "1. Install the conda package / environment manager\n",
    "\n",
    "> I would generally recommending installing [miniconda](https://docs.anaconda.com/free/miniconda/index.html) and these setup instructions assume you're using conda on the command line. That said, if your system already has the full Anaconda Distribution installed and you would like to use Navigator to manage environments, feel free to utilize it!\n",
    "\n",
    "2. Create an environment with Python and activate it\n",
    "\n",
    "```bash\n",
    "$ conda create -n \"lsl-ws\" python\n",
    "\n",
    "...\n",
    "\n",
    "$ conda activate lsl-ws\n",
    "```\n",
    "\n",
    "3. Install the [liblsl](https://anaconda.org/conda-forge/liblsl) and [pylsl](https://pypi.org/project/pylsl/) packages into the environment you just created.\n",
    "\n",
    "```bash\n",
    "$ conda install conda-forge::liblsl\n",
    "\n",
    "...\n",
    "\n",
    "$ pip install pylsl\n",
    "```\n",
    "\n",
    "4. Make sure the notebook is using the conda environment. In VSCode, you can do this by clicking \"Select kernel\" in the top right-hand corner of the screen.\n",
    "\n",
    "![](./images/00_select-kernel.png)\n",
    "\n",
    "When prompted, be sure to install the ipykernel package as well.\n",
    "\n",
    "![](./images/00_ipykernel.png)\n",
    "\n",
    "5. Test that the installation is working by running the code block below. If no errors appear, you're good to go!"
   ]
  },
  {
   "cell_type": "code",
   "execution_count": 4,
   "metadata": {},
   "outputs": [],
   "source": [
    "from pylsl import pylsl"
   ]
  },
  {
   "cell_type": "markdown",
   "metadata": {},
   "source": [
    "\n",
    "## (TODO:UPDATE) Part 4: BITalino Configuration\n",
    "\n",
    "1. Set up a conda environment following the BITalino quickstart on Dropbox\n",
    "\n",
    "2. Test the configuration by running the code block below\n",
    "    - Change the `device_mac_address` variable to that of the device you paired to your computer.\n",
    "    - You don't need to have any sensors connected to the BITalino in order to run the script.\n",
    "    - The test script runs indefinitely. To stop it, press the stop button next to the code cell."
   ]
  },
  {
   "cell_type": "code",
   "execution_count": null,
   "metadata": {},
   "outputs": [],
   "source": [
    "from bitalino import BITalino\n",
    "\n",
    "'''\n",
    "Specify device configuration:\n",
    "- MAC address is a unique identifier that is used to connect to the BITalino you have paired\n",
    "- Which channels data is collected from (these are zero-index counterparts of the A1-A6 ports on the BITalino; i.e. 0 = A1, 1 = A2, etc.)\n",
    "- The sampling rate that data is collected at (Hz; samples / second)\n",
    "- Samping type. 10-bit is recommended, but 6-bit is also available for novel applications.\n",
    "'''\n",
    "device_mac_address = \"MY:BITALINO:MAC:ADDRESS:HERE\"\n",
    "active_channels = [0, 1, 2, 3, 4, 5]    # Collect data from all channels (A1-A6)\n",
    "sample_rate = 100                       # Available values are 1, 10, 100, 1000\n",
    "bit_depth = 10                          # 10-bit sampling. 6-bit sampling is also available\n",
    "\n",
    "# Connect to the specified BITalino\n",
    "device = BITalino(device_mac_address)          \n",
    "\n",
    "# Start sampling\n",
    "device.start(sample_rate, active_channels)\n",
    "\n",
    "while True:\n",
    "    print(device.read(bit_depth))"
   ]
  }
 ],
 "metadata": {
  "kernelspec": {
   "display_name": "lsl-ws",
   "language": "python",
   "name": "python3"
  },
  "language_info": {
   "codemirror_mode": {
    "name": "ipython",
    "version": 3
   },
   "file_extension": ".py",
   "mimetype": "text/x-python",
   "name": "python",
   "nbconvert_exporter": "python",
   "pygments_lexer": "ipython3",
   "version": "3.12.3"
  }
 },
 "nbformat": 4,
 "nbformat_minor": 2
}
