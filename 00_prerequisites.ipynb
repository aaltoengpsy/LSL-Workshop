{
 "cells": [
  {
   "cell_type": "markdown",
   "metadata": {},
   "source": [
    "# LSL Workshop Prerequisites"
   ]
  },
  {
   "cell_type": "markdown",
   "metadata": {},
   "source": [
    "# Part 1\n",
    "\n",
    "The first part of the workshop focuses on explaining the core concepts of LSL, so no configuration is required. However, to get the most out of the workshop, you'll want to go through parts 2 through 4 as well.\n",
    "\n",
    "It's recommended to use [Visual Studio Code](https://code.visualstudio.com/) for the workshop."
   ]
  },
  {
   "cell_type": "markdown",
   "metadata": {},
   "source": [
    "\n",
    "## Parts 2-4\n",
    "\n",
    "In parts 2, 3 and 4 you'll be using LSL to send and receive data. Follow these instructions to get started.\n",
    "\n",
    "1. Install the conda package / environment manager\n",
    "\n",
    "> I would generally recommending installing [miniconda](https://docs.anaconda.com/free/miniconda/index.html) and these setup instructions assume you're using conda on the command line. That said, if your system already has the full Anaconda Distribution installed and you would like to use Navigator to manage environments, feel free to utilize it!\n",
    "\n",
    "2. Create an environment with Python and activate it. Let's name it `lsl-ws` for this workshop.\n",
    "\n",
    "```bash\n",
    "$ conda create -n \"lsl-ws\" python\n",
    "\n",
    "...\n",
    "$ conda activate lsl-ws\n",
    "```\n",
    "\n",
    "3. Install the [liblsl](https://anaconda.org/conda-forge/liblsl) package using the conda package manager.\n",
    "\n",
    "```bash\n",
    "$ conda install conda-forge::liblsl\n",
    "````\n",
    "\n",
    "4. Use pip to install the rest of the requirements (from [requirements.txt](./requirements.txt))\n",
    "\n",
    "```bash\n",
    "$ pip install -r requirements.txt\n",
    "```\n",
    "\n",
    "> **Note** that you can also easily install the requirements manually. For parts 2 and 3, you need to install `pylsl` and `ipykernel` with pip. For the HTTP section in part 4, we're using `Flask` and `flask-cors`.\n",
    "\n",
    "5. Make sure the notebook is using the conda environment. In VSCode, you can do this by clicking \"Select kernel\" in the top right-hand corner of the screen.\n",
    "\n",
    "![](./images/00_select-kernel.png)\n",
    "\n",
    "When prompted, be sure to install the ipykernel package as well.\n",
    "\n",
    "![](./images/00_ipykernel.png)\n",
    "\n",
    "5. Test that the installation is working by running the code block below. If no errors appear, you're good to go!"
   ]
  },
  {
   "cell_type": "code",
   "execution_count": 1,
   "metadata": {},
   "outputs": [],
   "source": [
    "from pylsl import pylsl"
   ]
  },
  {
   "cell_type": "markdown",
   "metadata": {},
   "source": [
    "6. When you start running code cells in part 2, you might see a prompt asking you to change your firewall settings. As LSL is a networking library, you will need to give it access. On MacOS, the prompt will look something like this:\n",
    "\n",
    "![](./images/firewall.png)\n",
    "\n",
    "> You can also change these settings later on by searching for firewall in the system settings and then enabling Python access in the options."
   ]
  },
  {
   "cell_type": "markdown",
   "metadata": {},
   "source": [
    "\n",
    "## Bonus: BITalino Configuration for Part 4\n",
    "\n",
    "In part 4, we'll additionally take a look at sampling data from a BITalino biosignal device over Bluetooth. **You are not expected to run any of the associated code yourself** as the setup takes more effort and requires admin rights to your computer. However, if you have access to a BITalino device and you'd like to try the code, feel free to follow the steps below to get setup.\n",
    "\n",
    "1. Make sure you have admin / root rights to your computer.\n",
    "\n",
    "2. Install platform-specific [dependencies](https://github.com/pybluez/pybluez/blob/master/docs/install.rst) for PyBluez (used for wireless communication with the BITalino) \n",
    "    - (Linux) install the [libbluetooth-dev](https://packages.ubuntu.com/focal/libbluetooth-dev) package\n",
    "    - (Windows) Windows SDK\n",
    "    - (MacOS) Xcode, PyObjc 3.1b or later\n",
    "\n",
    "3. Make sure you have activated the conda environment we created earlier.\n",
    "\n",
    "4. Install `numpy` and `pyserial` (you can use either conda or pip)\n",
    "\n",
    "5. Install `bitalino` **with pip**. This will automatically install a compatible version of PyBluez, as long as you have set up the dependencies above.\n",
    "\n",
    "6. Pair your BITalino with your computer in Bluetooth settings\n",
    "    - On Windows, you will be asked for a pairing code at some point. This should be 1234 by default.\n",
    "    - On Linux, if there are a lot of Bluetooth devices nearby, you may have to use [bluetoothctl](https://www.makeuseof.com/manage-bluetooth-linux-with-bluetoothctl/) to manually pair & trust the device\n",
    "        - `$ bluetoothctl pair YOUR:BITALINO:MAC:ADDRESS`\n",
    "        - `$ bluetoothctl trust YOUR:BITALINO:MAC:ADDRESS`\n",
    "\n",
    "2. Test the configuration by running the code block below\n",
    "    - Change the `device_mac_address` variable to that of the device you paired to your computer.\n",
    "    - You don't need to have any sensors connected to the BITalino in order to run the script.\n",
    "    - The test script runs indefinitely. To stop it, press the stop button next to the code cell."
   ]
  },
  {
   "cell_type": "code",
   "execution_count": null,
   "metadata": {},
   "outputs": [],
   "source": [
    "from bitalino import BITalino\n",
    "\n",
    "'''\n",
    "If you run into the following error:\n",
    "\"UnicodeDecodeError: 'utf-8' codec can't decode byte 0xe0 in position 0: unexpected end of data\"\n",
    "---> Wait until the Bitalino's LED stops rapidly blinking and returns to a \"breathing\" state, then run the script again.\n",
    "'''\n",
    "\n",
    "device_mac_address = \"MY:BITALINO:MAC:ADDRESS:HERE\"\n",
    "active_channels = [0, 1, 2, 3]          # Collect data from channels A1-A4\n",
    "sample_rate = 100                       # Available values are 1, 10, 100, 1000\n",
    "bit_depth = 10                          # 10-bit sampling. Channels A5 & A6 are 6-bit only.\n",
    "\n",
    "# Connect to the specified BITalino\n",
    "device = BITalino(device_mac_address)          \n",
    "\n",
    "# Start sampling\n",
    "device.start(sample_rate, active_channels)\n",
    "\n",
    "while True:\n",
    "    print(device.read(bit_depth))"
   ]
  }
 ],
 "metadata": {
  "kernelspec": {
   "display_name": "lsl-ws",
   "language": "python",
   "name": "python3"
  },
  "language_info": {
   "codemirror_mode": {
    "name": "ipython",
    "version": 3
   },
   "file_extension": ".py",
   "mimetype": "text/x-python",
   "name": "python",
   "nbconvert_exporter": "python",
   "pygments_lexer": "ipython3",
   "version": "3.12.4"
  }
 },
 "nbformat": 4,
 "nbformat_minor": 2
}
