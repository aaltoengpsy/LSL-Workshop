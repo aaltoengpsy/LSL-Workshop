{
 "cells": [
  {
   "cell_type": "markdown",
   "metadata": {},
   "source": [
    "# Advanced LSL Use\n",
    "\n",
    "We've now taken a look at the basics of LSL, streaming random data points from an outlet to and inlet and logged them to a file.\n",
    "\n",
    "In practice, LSL use is always associated with an external data source. This could simply be sending data points or markers from external software (like a game engine) or accessing sensor readings with Python and pushing them to an outlet. Sometimes you'll want to use separate computers altogether for sampling and recording to reduce the computational load on a single machine. In this case, LSL's built-in networking is extremely convenient.\n",
    "\n",
    "![](./images/lsl-structure-p4i.drawio.png)"
   ]
  },
  {
   "cell_type": "markdown",
   "metadata": {},
   "source": [
    "At this point it's worth emphasizing that we've already learned the general LSL workflow and you should now be ready to use it in practice, no matter the data source you have: writing a sampling solution is very much dependent on what data sources you use and how well they are supported in Python.\n",
    "\n",
    "In this part, we'll go through a couple of practical examples of uses we've faced when doing research in our group."
   ]
  },
  {
   "cell_type": "markdown",
   "metadata": {},
   "source": [
    "## Sending Markers Over HTTP"
   ]
  },
  {
   "cell_type": "code",
   "execution_count": null,
   "metadata": {},
   "outputs": [],
   "source": []
  },
  {
   "cell_type": "markdown",
   "metadata": {},
   "source": [
    "## Streaming BITalino Sensor Data"
   ]
  },
  {
   "cell_type": "code",
   "execution_count": null,
   "metadata": {},
   "outputs": [],
   "source": []
  },
  {
   "cell_type": "markdown",
   "metadata": {},
   "source": [
    "## Group Assignment"
   ]
  },
  {
   "cell_type": "markdown",
   "metadata": {},
   "source": [
    "### D. Streaming between devices"
   ]
  }
 ],
 "metadata": {
  "language_info": {
   "name": "python"
  }
 },
 "nbformat": 4,
 "nbformat_minor": 2
}
