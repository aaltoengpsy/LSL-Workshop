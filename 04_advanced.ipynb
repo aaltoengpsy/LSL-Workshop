{
 "cells": [
  {
   "cell_type": "markdown",
   "metadata": {},
   "source": [
    "# Advanced LSL Use\n",
    "\n",
    "We've now taken a look at the basics of LSL, streaming random data points from an outlet to and inlet and logged them to a file.\n",
    "\n",
    "In practice, LSL use is always associated with an external data source. This could simply be sending data points or markers from external software (like a game engine) or accessing sensor readings with Python and pushing them to an outlet. Sometimes you'll want to use separate computers altogether for sampling and recording to reduce the computational load on a single machine. In this case, LSL's built-in networking is extremely convenient.\n",
    "\n",
    "![](./images/lsl-structure-p4i.drawio.png)"
   ]
  },
  {
   "cell_type": "markdown",
   "metadata": {},
   "source": [
    "At this point it's worth emphasizing that we've already learned the general LSL workflow and you should now be ready to use it in practice, no matter the data source you have: writing a sampling solution is very much dependent on what data sources you use and how well they are supported in Python.\n",
    "\n",
    "In this part, we'll reach outside of LSL and go through a couple of practical examples of uses we've faced when doing research in our group."
   ]
  },
  {
   "cell_type": "markdown",
   "metadata": {},
   "source": [
    "## Streaming BITalino Sensor Data\n",
    "\n",
    "> You are not expected to run the code cells in this section, as getting the BITalino libraries working takes a bit of extra setup (instructions for those interested are included in [prerequisites](./00_prerequisites.ipynb)). That said, I would still recommend reading through this section to get an idea of how you might integrate LSL with external sensing solutions.\n",
    "\n",
    "The [BITalino](https://www.pluxbiosignals.com/pages/bitalino) is a biosignal device that can be outfitted with [a variety of sensors](https://www.pluxbiosignals.com/collections/bitalino?pf_pt_product_type=Sensors), including EDA (electrodermal activity), ECG (electrocardiography) and heartrate sensors. While the device is expected to be used with [a proprietary recording software](https://support.pluxbiosignals.com/knowledge-base/introducing-opensignals-revolution/) that features [the option to stream to LSL](https://support.pluxbiosignals.com/knowledge-base/how-do-i-use-the-opensignals-lab-streaming-layer-lsl-feature/), we've found that setting it up on a university-managed system can be a bit of a hassle (I recall the Linux version actually requiring Ubuntu 18). As the device does feature a simple but poorly-documented [Python API](https://github.com/BITalinoWorld/revolution-python-api) coding your own sampling solution actually isn't too difficult.\n",
    "\n",
    "Let's code a simple sampler script that reads values and prints them out. To connect to our device, we first need to pair it (see [prerequisites](./00_prerequisites.ipynb) for instructions). Then, the MAC address of the paired device should be set as the value of `device_mac_address`."
   ]
  },
  {
   "cell_type": "code",
   "execution_count": null,
   "metadata": {},
   "outputs": [],
   "source": [
    "device_mac_address = \"MY:BITALINO:MAC:ADDRESS:HERE\""
   ]
  },
  {
   "cell_type": "markdown",
   "metadata": {},
   "source": [
    "Now, we need to specify which channels we wish to sample and how. The \"(r)evolution Plugged\" kits that we have at the lab have 6 channels (marked on the casing as A1-A6). However, since in programming (nearly) everything is zero-index, we need to use `0` for A1, `1` for A2, etc. in our code.\n",
    "\n",
    "We'll also need to specify how these channels are sampled. The sample rate is specified in Hz (samples per second). Bit depth references the resolution of our samples - ports A1-A4 are 10-bit, while ports A5-A6 are 6-bit. To learn more about the capabilities of your device, refer to its [datasheet & manual](https://support.pluxbiosignals.com/knowledge-base/bitalino-documentation/)."
   ]
  },
  {
   "cell_type": "code",
   "execution_count": null,
   "metadata": {},
   "outputs": [],
   "source": [
    "active_channels = [0, 1, 2, 3]          # Collect data from channels A1-A4\n",
    "sample_rate = 100                       # Available values are 1, 10, 100, 1000\n",
    "bit_depth = 10                          # 10-bit sampling. 6-bit sampling is also available for A5 & A6"
   ]
  },
  {
   "cell_type": "markdown",
   "metadata": {},
   "source": [
    "Now all that's left is to connnect to the device and start sampling.\n",
    "\n",
    "The script runs indefinitely - you can stop it by clicking the stop button next to the cell."
   ]
  },
  {
   "cell_type": "code",
   "execution_count": null,
   "metadata": {},
   "outputs": [],
   "source": [
    "from bitalino import BITalino\n",
    "\n",
    "'''\n",
    "If you run into the following error:\n",
    "\"UnicodeDecodeError: 'utf-8' codec can't decode byte 0xe0 in position 0: unexpected end of data\"\n",
    "---> Wait until the Bitalino's LED stops rapidly blinking and returns to a \"breathing\" state, then run the script again.\n",
    "'''\n",
    "\n",
    "# Connect to the specified BITalino\n",
    "device = BITalino(device_mac_address)          \n",
    "\n",
    "# Start sampling\n",
    "device.start(sample_rate, active_channels)\n",
    "\n",
    "while True:\n",
    "    print(device.read(bit_depth))"
   ]
  },
  {
   "cell_type": "markdown",
   "metadata": {},
   "source": [
    "I'm sure you can now see where this is going. In order to get the data to LSL, we simply need to create an appropriate outlet and push our samples to it.\n",
    "\n",
    "Let's take a look at a modified script."
   ]
  },
  {
   "cell_type": "code",
   "execution_count": null,
   "metadata": {},
   "outputs": [],
   "source": [
    "from bitalino import BITalino\n",
    "from pylsl import StreamInfo, StreamOutlet\n",
    "\n",
    "# Bitalino configuration\n",
    "device_mac_address = \"MY:BITALINO:MAC:ADDRESS:HERE\"\n",
    "active_channels = [0]                                   # Collect data from channels A1\n",
    "sample_rate = 100                                       # Available values are 1, 10, 100, 1000\n",
    "bit_depth = 10                                          # 10-bit sampling. 6-bit sampling is also available for A5 & A6\n",
    "\n",
    "'''\n",
    "If you run into the following error:\n",
    "\"UnicodeDecodeError: 'utf-8' codec can't decode byte 0xe0 in position 0: unexpected end of data\"\n",
    "---> Wait until the Bitalino's LED stops rapidly blinking and returns to a \"breathing\" state, then run the script again.\n",
    "'''\n",
    "\n",
    "# Connect to the specified BITalino\n",
    "device = BITalino(device_mac_address)      \n",
    "\n",
    "# Create our LSL stream & outlet\n",
    "stream = StreamInfo(\"Bitalino\", \"EDA\", 1, sample_rate, 'float32', 'ws-bitalino-ex')\n",
    "outlet = StreamOutlet(stream)\n",
    "\n",
    "# Start sampling\n",
    "device.start(sample_rate, active_channels)\n",
    "device.start()\n",
    "\n",
    "while True:\n",
    "    data = device.read(bit_depth)\n",
    "    eda_data = data[5]                                   # Index 5 corresponds to channel A1\n",
    "    outlet.push_sample([eda_data])                       # Output samples to LSL\n"
   ]
  },
  {
   "cell_type": "markdown",
   "metadata": {},
   "source": [
    "There's one notable thing about our script. Notice how, at the end, `eda_data` is read from the fifth index of `data`. Didn't we just specify in `active_channels` that we're collecting from channel `0` (A1)? This is because the BITalino has digital channels as well as analog. When using the [`device.start`](https://github.com/BITalinoWorld/revolution-python-api/blob/master/bitalino.py#L139) function, we specify which *analog* channels (A1-A6) are active. However, when using the [`device.read`](https://github.com/BITalinoWorld/revolution-python-api/blob/master/bitalino.py#L436) function, we read data from ALL channels, including digital. All digital channels are always activated when `start` is called. In other words, the digital channels are appended in the data before the analog channels, meaning that indices 5-10 of `data` will correspond to the analog ports A1-A5.\n",
    "\n",
    "Great! We're now all set to code our own BITalino-LSL integrations! One thing to remember is that it's usually a good idea to create outlets with 1-2 second intervals. Make sure to test your code and see that all devices connect to LSL, if you're using multiple!"
   ]
  },
  {
   "cell_type": "markdown",
   "metadata": {},
   "source": [
    "## Sending Markers Over HTTP"
   ]
  },
  {
   "cell_type": "markdown",
   "metadata": {},
   "source": [
    "Even if your sensing solution [supports LSL](https://labstreaminglayer.readthedocs.io/info/supported_devices.html), when doing HCI research, sometimes your participants will be interacting with software that is not developed with Python (e.g. web applications). While the core of LSL - liblsl - is available for other languages (C and C++ having active development at the time of writing, with Java, C# and MATLAB seemingly in a limbo), there's a more flexible option that is not dependent on language-specific support: the good old [HTTP](https://developer.mozilla.org/en-US/docs/Web/HTTP/Overview) request. In essence, your application can do a HTTP request to a Python server, which will then pass a marker to LSL. \n",
    "\n",
    "This method is fairly language-agnostic as most commonly used programming languages are able to make HTTP requests, but due to the nature of the protocol, this is only really useful for marker information. For continous data, you might be interested in [WebSockets](https://developer.mozilla.org/en-US/docs/Web/API/WebSockets_API), though it's not nearly as convenient as native LSL since you'll need to handle connectivity issues yourself!\n",
    "\n",
    "Let's make a quick HTTP server with [Flask](https://flask.palletsprojects.com/en/3.0.x/) and have it pass on markers to LSL. Note that you cannot run the server within the notebook; we'll try running it a bit later!"
   ]
  },
  {
   "cell_type": "code",
   "execution_count": null,
   "metadata": {},
   "outputs": [],
   "source": [
    "from flask import Flask, make_response, request\n",
    "from flask_cors import CORS\n",
    "from pylsl import StreamInfo, StreamOutlet\n",
    "\n",
    "# Create the Flask app\n",
    "app = Flask(__name__)\n",
    "\n",
    "# Enable cross-origin resource sharing for a specific URL. This only lets in requests from the specified URL.\n",
    "origin_url = 'your_url_here'\n",
    "cors = CORS(app, origins=[origin_url])\n",
    "\n",
    "# Define the stream & outlet\n",
    "stream = StreamInfo('markers', 'markers', 1, 0, 'string', 'ws-flask-markers')\n",
    "outlet = StreamOutlet(stream)\n",
    "\n",
    "# Define a route where markers should be sent\n",
    "@app.route('/markers', methods = ['POST'])                          # Route where requests should be sent is <server_url>/markers. Only POST requests are accepted.\n",
    "def receive_marker():\n",
    "    try:\n",
    "        req_contents = request.get_json()                           # Parse the contents of the HTTP request (to a JSON object)\n",
    "        marker = str(req_contents['marker'])                        # We'll put the marker string in a field called \"marker\" when making the request\n",
    "        print('Marker received with HTTP:', marker)\n",
    "        outlet.push_sample([marker])                                # Push the marker to the outlet\n",
    "        return make_response({'message': 'OK'}, 202)                # HTTP requests have to return at least a status code!\n",
    "    except Exception as e:\n",
    "        return make_response({'message': str(e)}, 500)              # If an error happened during processing, return the error message"
   ]
  },
  {
   "cell_type": "markdown",
   "metadata": {},
   "source": [
    "To test our marker server, let's write a short script that sends [HTTP POST](https://developer.mozilla.org/en-US/docs/Web/HTTP/Methods/POST) requests at a steady interval. Again, this won't work quite yet."
   ]
  },
  {
   "cell_type": "code",
   "execution_count": null,
   "metadata": {},
   "outputs": [],
   "source": [
    "import time\n",
    "import requests                                             # The requests library can be used in Python to make HTTP requests\n",
    "\n",
    "while True:\n",
    "    requests.post(                                          # Construct a HTTP POST request\n",
    "        'http://127.0.0.1:5000/markers',                    # The URL of our Flask server & marker endpoint\n",
    "        json = {'marker': 'hello'},                         # The body of our request contains the marker\n",
    "        headers = {'Content-Type': 'application/json'}      # Set the HTTP Content-Type header so our server accepts the contents\n",
    "    )\n",
    "\n",
    "    time.sleep(2)                                           # Sleep for 2 seconds to prevent overwhelming the server"
   ]
  },
  {
   "cell_type": "markdown",
   "metadata": {},
   "source": [
    "Let's test this in an exercise."
   ]
  },
  {
   "cell_type": "markdown",
   "metadata": {},
   "source": [
    "### D. HTTP Markers\n",
    "\n",
    "[The exercise folder](./exercises/D_HTTP-markers/) contains two scripts; `app.py` is our server script from above, while `marker_gen_http.py` is the request script.\n",
    "\n",
    "Familiarize yourself with the two scripts, and try running them side-by-side:\n",
    "\n",
    "```bash\n",
    "$ flask run                         # This automatically executes the app.py script\n",
    "\n",
    "...\n",
    "\n",
    "$ python marker_gen_http.py\n",
    "```\n",
    "\n",
    "You should see the server receiving a request with the message \"hello\" every two seconds, which is then pushed to the LSL network. \n",
    "\n",
    "> Note that `app.py` has a different CORS option from the example above. A wildcard (`*`) enables requests from any source, but using one is usually strongly NOT recommended, as it enables requests from any source, leaving your server vulnerable to malicious use. In practice, you'll always want to specify a single origin (like in the example above), but the following task requires the use of a wildcard.\n",
    "\n",
    "Your next task is to send a request from any other HTTP client to the server and have the server print out the marker from the request alongside code 202. \n",
    "\n",
    "The request should:\n",
    "- **be a `POST` request**\n",
    "  - ...as opposed to GET, OPTIONS, PUT, DELETE\n",
    "- **be directed to `http://127.0.0.1:5000/markers`**\n",
    "  - ...where `http://` specifies our protocol, `127.0.0.1` specifies the address of our server in the local network, `5000` is the port of our server, and `/markers` is our server's marker endpoint.\n",
    "- **have a `Content-Type` header with the value `application/json`**\n",
    "- **contain the following JSON `{\"marker\": \"your_marker_text_here\"}` in the body of the request**\n",
    "\n",
    "An easy way to test HTTP requests is by installing the [Thunder Client VSCode extension](https://www.thunderclient.com/). Alternatively, if you're feeling adventurous, you can write a short script in, say, JavaScript, and use [`fetch`](https://developer.mozilla.org/en-US/docs/Web/API/Fetch_API/Using_Fetch).\n",
    "\n",
    "You only need to run the server script when testing your request. You do not need to modify the server script."
   ]
  },
  {
   "cell_type": "markdown",
   "metadata": {},
   "source": [
    "## Group Exercise\n",
    "\n",
    "Let's cap off the workshop with a group / pair exercise. If you really don't want to work with others and have two computers at your disposal, you can also do this on your own 😄"
   ]
  },
  {
   "cell_type": "markdown",
   "metadata": {},
   "source": [
    "### E. Streaming Between Devices\n",
    "\n",
    "The [directory](./exercises/E_Streaming-between-devices/) contains our simple marker generator and logger from part 2 / exercise A. Coordinate with a friend (one of you runs the generator and the other the logger) so that markers are sent from one computer to another.\n",
    "\n",
    "- Define the StreamInfo for the generator script on the sender's computer.\n",
    "- Define the source id for the logger script on the receiver's computer\n",
    "- The sent marker can be anything you want\n",
    "- Make sure you are both connected to the same network\n",
    "- Make sure the stream identifier is the same for the both of you\n",
    "\n",
    "**Bonus:** Now do the same with two senders and one receiver!"
   ]
  },
  {
   "cell_type": "markdown",
   "metadata": {},
   "source": [
    "## Conclusion\n",
    "\n",
    "Congratulations! 🎉🎉🎉\n",
    "\n",
    "You've somehow managed to wade all the way here! You're now all set to develop your own LSL solutions for your and/or others research needs. Happy debugging!\n",
    "\n"
   ]
  }
 ],
 "metadata": {
  "kernelspec": {
   "display_name": "lsl-ws",
   "language": "python",
   "name": "python3"
  },
  "language_info": {
   "codemirror_mode": {
    "name": "ipython",
    "version": 3
   },
   "file_extension": ".py",
   "mimetype": "text/x-python",
   "name": "python",
   "nbconvert_exporter": "python",
   "pygments_lexer": "ipython3",
   "version": "3.12.3"
  }
 },
 "nbformat": 4,
 "nbformat_minor": 2
}
