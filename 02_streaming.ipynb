{
 "cells": [
  {
   "cell_type": "markdown",
   "metadata": {},
   "source": [
    "# Streaming\n",
    "\n",
    "It's time to get hands-on with LSL. In this part, we'll be creating an LSL stream and capturing it with a server."
   ]
  },
  {
   "cell_type": "markdown",
   "metadata": {},
   "source": [
    "## Stream Outlet\n",
    "\n",
    "Let's create a stream outlet that can be used to push single-channel data to the LSL network. The outlet needs to be constructed with information detailing:\n",
    "\n",
    "- The name of the stream\n",
    "- The type of the stream\n",
    "- The number of channels the stream uses\n",
    "- The sampling rate the stream is updated at\n",
    "- The type of value the stream outputs\n",
    "- A (should-be) unique identifier for the stream"
   ]
  },
  {
   "cell_type": "code",
   "execution_count": 1,
   "metadata": {},
   "outputs": [],
   "source": [
    "from pylsl import StreamInfo, StreamOutlet\n",
    "\n",
    "def create_outlet():\n",
    "    name = 'workshop_outlet'                                                                # The name of the outlet\n",
    "    type = 'single_stream'                                                                  # Stream type. This can be anything, but should probably be descriptive of what data is going through (e.g. EDA, EEG, Markers)\n",
    "    n_of_channels = 1                                                                       # Single-channel data\n",
    "    samping_rate = 1                                                                        # 1Hz = 1 sample per second\n",
    "    value_type = 'float32'                                                                  # The type that all stream values should be.\n",
    "    outlet_id = 'workshop_outlet_1234'                                                      # An unique identifier used to resolve streams when pulling data from the LSL network\n",
    "\n",
    "    stream = StreamInfo(name, type, n_of_channels, samping_rate, value_type, outlet_id)     # Establish the details of the stream\n",
    "    outlet = StreamOutlet(stream)                                                           # Create the outlet\n",
    "\n",
    "    return outlet"
   ]
  },
  {
   "cell_type": "markdown",
   "metadata": {},
   "source": [
    "Next, let's define a function that generates random floating point numbers with max. 2 decimals and pushes them through the outlet. Note that since outlets can be used to push samples of various numbers of channels, we need to wrap our sample in an array `[]` when sending it, even if we defined the stream to be one channel earlier.\n",
    "\n"
   ]
  },
  {
   "cell_type": "code",
   "execution_count": 2,
   "metadata": {},
   "outputs": [],
   "source": [
    "import time\n",
    "import random\n",
    "\n",
    "def output_random_sample(target_outlet):\n",
    "    random_sample = round(random.random(), 2)                                               # Generate a random floating point value between 0 and 1 and round it to 2 decimals.\n",
    "    print('Outputting random sample:', random_sample)                                       # Print out the sample we just generated\n",
    "\n",
    "    target_outlet.push_sample([random_sample])                                              # Push the sample through the outlet"
   ]
  },
  {
   "cell_type": "markdown",
   "metadata": {},
   "source": [
    "Finally, let's try to run the function. You should see a new printout every second. \n",
    "\n",
    "Note three things about the code below:\n",
    "- To keep the notebook clean, we are using the `clear_output` function from IPython to remove previous outputs.\n",
    "- We defined our sampling rate to be 1Hz, so we're using Python's `time.sleep` to artificially delay each loop execution by 1 second\n",
    "- As it has been hard-coded to run indefinitely, you can stop the output by pressing the stop button next to the cell."
   ]
  },
  {
   "cell_type": "code",
   "execution_count": 4,
   "metadata": {},
   "outputs": [
    {
     "name": "stdout",
     "output_type": "stream",
     "text": [
      "Outputting random sample: 0.98\n"
     ]
    },
    {
     "ename": "KeyboardInterrupt",
     "evalue": "",
     "output_type": "error",
     "traceback": [
      "\u001b[0;31m---------------------------------------------------------------------------\u001b[0m",
      "\u001b[0;31mKeyboardInterrupt\u001b[0m                         Traceback (most recent call last)",
      "Cell \u001b[0;32mIn[4], line 9\u001b[0m\n\u001b[1;32m      6\u001b[0m clear_output()                                                                  \u001b[38;5;66;03m# Clear the output below the cell so that only one value is displayed at atime\u001b[39;00m\n\u001b[1;32m      8\u001b[0m output_random_sample(outlet)\n\u001b[0;32m----> 9\u001b[0m \u001b[43mtime\u001b[49m\u001b[38;5;241;43m.\u001b[39;49m\u001b[43msleep\u001b[49m\u001b[43m(\u001b[49m\u001b[38;5;241;43m1\u001b[39;49m\u001b[43m)\u001b[49m                                                                   \u001b[38;5;66;03m# Wait for 1 second until the next loop\u001b[39;00m\n",
      "\u001b[0;31mKeyboardInterrupt\u001b[0m: "
     ]
    }
   ],
   "source": [
    "from IPython.display import clear_output\n",
    "\n",
    "outlet = create_outlet()\n",
    "\n",
    "while True:\n",
    "    clear_output()                                                                          # Clear the output below the cell so that only one value is displayed at atime\n",
    "\n",
    "    output_random_sample(outlet)\n",
    "    time.sleep(1)                                                                           # Wait for 1 second until the next loop"
   ]
  },
  {
   "cell_type": "markdown",
   "metadata": {},
   "source": [
    "## Stream Inlet\n",
    "\n",
    "Now we know how to push data to the LSL network, but how do we make use of it? \n",
    "\n",
    "As mentioned in part 1, we now need to create an inlet. To create an inlet, we need to resolve available streams in the network. \n",
    "\n",
    "> You could resolve all streams at once if you wanted to, but here we'll filter out everything that doesn't possess our unique stream identifier. Take a look at [the liblsl documentation for the `stream_info` class](https://labstreaminglayer.readthedocs.io/projects/liblsl/ref/streaminfo.html?highlight=streaminfo) to see the parameter names that can be used to filter streams (here, `source_id` refers to the value we gave our `outlet_id` variable above)."
   ]
  },
  {
   "cell_type": "code",
   "execution_count": 3,
   "metadata": {},
   "outputs": [],
   "source": [
    "from pylsl import StreamInlet, resolve_stream\n",
    "\n",
    "def create_inlet():\n",
    "    stream = resolve_stream('source_id', 'workshop_outlet_1234')[0]                     # Find streams with our desired ID and grab the first one (the function returns an array)\n",
    "    inlet = StreamInlet(stream)                                                         # Establish an inlet that data can be pulled through\n",
    "    return inlet"
   ]
  },
  {
   "cell_type": "markdown",
   "metadata": {},
   "source": [
    "Next, let's write a function that pulls a sample from an inlet. Notable here is that when pulling the sample we can also access its timestamp. The ease of this (no configuration required on our part) is one of the core features that make LSL such an attractive solution for research.\n",
    "\n",
    "The `pull_sample` function returns a tuple, which we then destructure (unpack) to two variables: `samples`, which is an array containing our sample, and `ts`, which is the timestamp for when the sample was pushed through the outlet."
   ]
  },
  {
   "cell_type": "code",
   "execution_count": 4,
   "metadata": {},
   "outputs": [],
   "source": [
    "def pull_random_sample(source_inlet):\n",
    "    samples, ts = source_inlet.pull_sample()\n",
    "    print('Received sample:', samples[0], 'with timestamp', ts)"
   ]
  },
  {
   "cell_type": "markdown",
   "metadata": {},
   "source": [
    "Now, let's demonstrate how we can combine our outlet and inlet and run them in parallel to send and capture data in real time. \n",
    "\n",
    "In a realistic environment, you would probably have two separate scripts: one for gathering samples and pushing them through an outlet, and another for pulling samples from the LSL network and logging them. Due to the limitations of the notebook format, we cannot run two cells at once. That's why in the script below, we use `Thread` to run our random sampler & outlet functionality asynchronously in a separate CPU thread from the one running our inlet.\n",
    "\n",
    "This time, the script runs for 20 seconds."
   ]
  },
  {
   "cell_type": "code",
   "execution_count": 5,
   "metadata": {},
   "outputs": [
    {
     "name": "stderr",
     "output_type": "stream",
     "text": [
      "2024-05-22 16:34:46.171 (   7.577s) [           4B98C]      netinterfaces.cpp:91    INFO| netif 'lo0' (status: 1, multicast: 32768, broadcast: 0)\n",
      "2024-05-22 16:34:46.171 (   7.577s) [           4B98C]      netinterfaces.cpp:91    INFO| netif 'lo0' (status: 1, multicast: 32768, broadcast: 0)\n",
      "2024-05-22 16:34:46.171 (   7.577s) [           4B98C]      netinterfaces.cpp:102   INFO| \tIPv4 addr: 7f000001\n",
      "2024-05-22 16:34:46.172 (   7.577s) [           4B98C]      netinterfaces.cpp:91    INFO| netif 'lo0' (status: 1, multicast: 32768, broadcast: 0)\n",
      "2024-05-22 16:34:46.172 (   7.577s) [           4B98C]      netinterfaces.cpp:105   INFO| \tIPv6 addr: ::1\n",
      "2024-05-22 16:34:46.172 (   7.577s) [           4B98C]      netinterfaces.cpp:91    INFO| netif 'lo0' (status: 1, multicast: 32768, broadcast: 0)\n",
      "2024-05-22 16:34:46.172 (   7.577s) [           4B98C]      netinterfaces.cpp:105   INFO| \tIPv6 addr: fe80::1%lo0\n",
      "2024-05-22 16:34:46.172 (   7.577s) [           4B98C]      netinterfaces.cpp:91    INFO| netif 'gif0' (status: 0, multicast: 32768, broadcast: 0)\n",
      "2024-05-22 16:34:46.172 (   7.577s) [           4B98C]      netinterfaces.cpp:91    INFO| netif 'stf0' (status: 0, multicast: 0, broadcast: 0)\n",
      "2024-05-22 16:34:46.172 (   7.577s) [           4B98C]      netinterfaces.cpp:91    INFO| netif 'anpi1' (status: 1, multicast: 32768, broadcast: 2)\n",
      "2024-05-22 16:34:46.172 (   7.577s) [           4B98C]      netinterfaces.cpp:91    INFO| netif 'anpi0' (status: 1, multicast: 32768, broadcast: 2)\n",
      "2024-05-22 16:34:46.172 (   7.577s) [           4B98C]      netinterfaces.cpp:91    INFO| netif 'en3' (status: 1, multicast: 32768, broadcast: 2)\n",
      "2024-05-22 16:34:46.172 (   7.577s) [           4B98C]      netinterfaces.cpp:91    INFO| netif 'en4' (status: 1, multicast: 32768, broadcast: 2)\n",
      "2024-05-22 16:34:46.172 (   7.577s) [           4B98C]      netinterfaces.cpp:91    INFO| netif 'en1' (status: 1, multicast: 32768, broadcast: 2)\n",
      "2024-05-22 16:34:46.172 (   7.577s) [           4B98C]      netinterfaces.cpp:91    INFO| netif 'en2' (status: 1, multicast: 32768, broadcast: 2)\n",
      "2024-05-22 16:34:46.172 (   7.577s) [           4B98C]      netinterfaces.cpp:91    INFO| netif 'bridge0' (status: 1, multicast: 32768, broadcast: 2)\n",
      "2024-05-22 16:34:46.172 (   7.577s) [           4B98C]      netinterfaces.cpp:91    INFO| netif 'ap1' (status: 1, multicast: 32768, broadcast: 2)\n",
      "2024-05-22 16:34:46.172 (   7.577s) [           4B98C]      netinterfaces.cpp:91    INFO| netif 'ap1' (status: 1, multicast: 32768, broadcast: 2)\n",
      "2024-05-22 16:34:46.172 (   7.577s) [           4B98C]      netinterfaces.cpp:105   INFO| \tIPv6 addr: fe80::309f:41ff:fec4:67df%ap1\n",
      "2024-05-22 16:34:46.172 (   7.577s) [           4B98C]      netinterfaces.cpp:91    INFO| netif 'en0' (status: 1, multicast: 32768, broadcast: 2)\n",
      "2024-05-22 16:34:46.172 (   7.577s) [           4B98C]      netinterfaces.cpp:91    INFO| netif 'en0' (status: 1, multicast: 32768, broadcast: 2)\n",
      "2024-05-22 16:34:46.172 (   7.578s) [           4B98C]      netinterfaces.cpp:105   INFO| \tIPv6 addr: fe80::14b8:9810:c82f:39c0%en0\n",
      "2024-05-22 16:34:46.172 (   7.578s) [           4B98C]      netinterfaces.cpp:91    INFO| netif 'en0' (status: 1, multicast: 32768, broadcast: 2)\n",
      "2024-05-22 16:34:46.172 (   7.578s) [           4B98C]      netinterfaces.cpp:102   INFO| \tIPv4 addr: 82e960c6\n",
      "2024-05-22 16:34:46.172 (   7.578s) [           4B98C]      netinterfaces.cpp:91    INFO| netif 'en0' (status: 1, multicast: 32768, broadcast: 2)\n",
      "2024-05-22 16:34:46.172 (   7.578s) [           4B98C]      netinterfaces.cpp:105   INFO| \tIPv6 addr: 2001:708:20:140b::15b5\n",
      "2024-05-22 16:34:46.172 (   7.578s) [           4B98C]      netinterfaces.cpp:91    INFO| netif 'awdl0' (status: 1, multicast: 32768, broadcast: 2)\n",
      "2024-05-22 16:34:46.172 (   7.578s) [           4B98C]      netinterfaces.cpp:91    INFO| netif 'awdl0' (status: 1, multicast: 32768, broadcast: 2)\n",
      "2024-05-22 16:34:46.172 (   7.578s) [           4B98C]      netinterfaces.cpp:105   INFO| \tIPv6 addr: fe80::e8fa:6aff:feb8:cd81%awdl0\n",
      "2024-05-22 16:34:46.172 (   7.578s) [           4B98C]      netinterfaces.cpp:91    INFO| netif 'llw0' (status: 1, multicast: 32768, broadcast: 2)\n",
      "2024-05-22 16:34:46.172 (   7.578s) [           4B98C]      netinterfaces.cpp:91    INFO| netif 'llw0' (status: 1, multicast: 32768, broadcast: 2)\n",
      "2024-05-22 16:34:46.172 (   7.578s) [           4B98C]      netinterfaces.cpp:105   INFO| \tIPv6 addr: fe80::e8fa:6aff:feb8:cd81%llw0\n",
      "2024-05-22 16:34:46.172 (   7.578s) [           4B98C]      netinterfaces.cpp:91    INFO| netif 'utun0' (status: 1, multicast: 32768, broadcast: 0)\n",
      "2024-05-22 16:34:46.172 (   7.578s) [           4B98C]      netinterfaces.cpp:91    INFO| netif 'utun0' (status: 1, multicast: 32768, broadcast: 0)\n",
      "2024-05-22 16:34:46.172 (   7.578s) [           4B98C]      netinterfaces.cpp:105   INFO| \tIPv6 addr: fe80::2587:bfd9:6ac1:a717%utun0\n",
      "2024-05-22 16:34:46.172 (   7.578s) [           4B98C]      netinterfaces.cpp:91    INFO| netif 'utun1' (status: 1, multicast: 32768, broadcast: 0)\n",
      "2024-05-22 16:34:46.172 (   7.578s) [           4B98C]      netinterfaces.cpp:91    INFO| netif 'utun1' (status: 1, multicast: 32768, broadcast: 0)\n",
      "2024-05-22 16:34:46.172 (   7.578s) [           4B98C]      netinterfaces.cpp:105   INFO| \tIPv6 addr: fe80::ccd3:453a:bcf9:be43%utun1\n",
      "2024-05-22 16:34:46.172 (   7.578s) [           4B98C]      netinterfaces.cpp:91    INFO| netif 'utun2' (status: 1, multicast: 32768, broadcast: 0)\n",
      "2024-05-22 16:34:46.172 (   7.578s) [           4B98C]      netinterfaces.cpp:91    INFO| netif 'utun2' (status: 1, multicast: 32768, broadcast: 0)\n",
      "2024-05-22 16:34:46.172 (   7.578s) [           4B98C]      netinterfaces.cpp:105   INFO| \tIPv6 addr: fe80::5620:5b36:6b92:77e3%utun2\n",
      "2024-05-22 16:34:46.172 (   7.578s) [           4B98C]      netinterfaces.cpp:91    INFO| netif 'utun3' (status: 1, multicast: 32768, broadcast: 0)\n",
      "2024-05-22 16:34:46.172 (   7.578s) [           4B98C]      netinterfaces.cpp:91    INFO| netif 'utun3' (status: 1, multicast: 32768, broadcast: 0)\n",
      "2024-05-22 16:34:46.172 (   7.578s) [           4B98C]      netinterfaces.cpp:105   INFO| \tIPv6 addr: fe80::ce81:b1c:bd2c:69e%utun3\n",
      "2024-05-22 16:34:46.172 (   7.578s) [           4B98C]      netinterfaces.cpp:91    INFO| netif 'en5' (status: 1, multicast: 32768, broadcast: 2)\n",
      "2024-05-22 16:34:46.172 (   7.578s) [           4B98C]         api_config.cpp:270   INFO| Loaded default config\n",
      "2024-05-22 16:34:46.173 (   7.578s) [           4B98C]             common.cpp:65    INFO| git:/branch:/build:Release/compiler:Clang-15.0.7/link:SHARED\n",
      "2024-05-22 16:34:46.173 (   7.579s) [           4B98C]         udp_server.cpp:82    WARN| Could not bind multicast responder for ff02:113d:6fdd:2c17:a643:ffe2:1bd1:3cd2 to interface ::1 (Can't assign requested address)\n",
      "2024-05-22 16:34:46.173 (   7.579s) [           4B98C]         udp_server.cpp:82    WARN| Could not bind multicast responder for ff02:113d:6fdd:2c17:a643:ffe2:1bd1:3cd2 to interface 2001:708:20:140b::15b5 (Can't assign requested address)\n",
      "2024-05-22 16:34:46.175 (   7.581s) [           4B98C]         udp_server.cpp:82    WARN| Could not bind multicast responder for ff05:113d:6fdd:2c17:a643:ffe2:1bd1:3cd2 to interface fe80::14b8:9810:c82f:39c0%en0 (Address already in use)\n",
      "2024-05-22 16:34:46.175 (   7.581s) [           4B98C]         udp_server.cpp:82    WARN| Could not bind multicast responder for ff05:113d:6fdd:2c17:a643:ffe2:1bd1:3cd2 to interface 130.233.96.198 (Address already in use)\n",
      "2024-05-22 16:34:46.175 (   7.581s) [           4B98C]         udp_server.cpp:82    WARN| Could not bind multicast responder for ff05:113d:6fdd:2c17:a643:ffe2:1bd1:3cd2 to interface 2001:708:20:140b::15b5 (Address already in use)\n"
     ]
    },
    {
     "name": "stdout",
     "output_type": "stream",
     "text": [
      "Outputting random sample: 0.48\n",
      "20\n",
      "20\n",
      "True\n",
      "Outputting random sample: 0.28\n",
      "Received sample: 0.2800000011920929 with timestamp 26035.881976166\n",
      "20\n",
      "19\n",
      "True\n",
      "Outputting random sample: 0.71\n",
      "Received sample: 0.7099999785423279 with timestamp 26036.882736666\n",
      "20\n",
      "18\n",
      "True\n",
      "Outputting random sample: 0.08\n",
      "Received sample: 0.07999999821186066 with timestamp 26037.888398208\n",
      "20\n",
      "17\n",
      "True\n",
      "Outputting random sample: 0.41\n",
      "Received sample: 0.4099999964237213 with timestamp 26038.89229275\n",
      "20\n",
      "16\n",
      "True\n",
      "Outputting random sample: 0.68\n",
      "Received sample: 0.6800000071525574 with timestamp 26039.895497416\n",
      "20\n",
      "15\n",
      "True\n",
      "Outputting random sample: 0.37\n",
      "Received sample: 0.3700000047683716 with timestamp 26040.896275958\n",
      "20\n",
      "14\n",
      "True\n",
      "Outputting random sample: 0.11\n",
      "Received sample: 0.10999999940395355 with timestamp 26041.902312666\n",
      "20\n",
      "13\n",
      "True\n",
      "Outputting random sample: 0.5\n",
      "Received sample: 0.5 with timestamp 26042.907834958\n",
      "20\n",
      "12\n",
      "True\n",
      "Outputting random sample: 0.01\n",
      "Received sample: 0.009999999776482582 with timestamp 26043.91238575\n",
      "20\n",
      "11\n",
      "True\n",
      "Outputting random sample: 0.54\n",
      "Received sample: 0.5400000214576721 with timestamp 26044.916779833\n",
      "20\n",
      "10\n",
      "True\n",
      "Outputting random sample: 0.47\n",
      "Received sample: 0.4699999988079071 with timestamp 26045.922581541\n",
      "20\n",
      "9\n",
      "True\n",
      "Outputting random sample: 0.8\n",
      "Received sample: 0.800000011920929 with timestamp 26046.928480916\n",
      "20\n",
      "8\n",
      "True\n",
      "Outputting random sample: 0.43\n",
      "Received sample: 0.4300000071525574 with timestamp 26047.931149041\n",
      "20\n",
      "7\n",
      "True\n",
      "Outputting random sample: 0.7\n",
      "Received sample: 0.699999988079071 with timestamp 26048.937077833\n",
      "20\n",
      "6\n",
      "True\n",
      "Outputting random sample: 0.91\n",
      "Received sample: 0.9100000262260437 with timestamp 26049.943106583\n",
      "20\n",
      "5\n",
      "True\n",
      "Outputting random sample: 0.79\n",
      "Received sample: 0.7900000214576721 with timestamp 26050.949099375\n",
      "20\n",
      "4\n",
      "True\n",
      "Outputting random sample: 0.41\n",
      "Received sample: 0.4099999964237213 with timestamp 26051.95457325\n",
      "20\n",
      "3\n",
      "True\n",
      "Outputting random sample: 0.6\n",
      "Received sample: 0.6000000238418579 with timestamp 26052.958369291\n",
      "20\n",
      "2\n",
      "True\n",
      "Outputting random sample: 0.48\n",
      "Received sample: 0.47999998927116394 with timestamp 26053.963543083\n",
      "20\n",
      "1\n",
      "True\n"
     ]
    },
    {
     "name": "stderr",
     "output_type": "stream",
     "text": [
      "Exception in thread Thread-4 (run_sampling):\n",
      "Traceback (most recent call last):\n",
      "  File \"/Users/haaviso1/miniconda3/envs/lsl-ws/lib/python3.12/threading.py\", line 1073, in _bootstrap_inner\n",
      "    self.run()\n",
      "  File \"/Users/haaviso1/miniconda3/envs/lsl-ws/lib/python3.12/site-packages/ipykernel/ipkernel.py\", line 761, in run_closure\n",
      "    _threading_Thread_run(self)\n",
      "  File \"/Users/haaviso1/miniconda3/envs/lsl-ws/lib/python3.12/threading.py\", line 1010, in run\n",
      "    self._target(*self._args, **self._kwargs)\n",
      "  File \"/var/folders/_s/rhl3j4bj01j0ktphlt6b80l40000gp/T/ipykernel_13198/2707818713.py\", line 20, in run_sampling\n",
      "  File \"/Users/haaviso1/miniconda3/envs/lsl-ws/lib/python3.12/threading.py\", line 1144, in join\n",
      "    raise RuntimeError(\"cannot join current thread\")\n",
      "RuntimeError: cannot join current thread\n"
     ]
    },
    {
     "name": "stdout",
     "output_type": "stream",
     "text": [
      "Sample output complete!\n",
      "Received sample: 0.9100000262260437 with timestamp 26054.975622958\n"
     ]
    },
    {
     "name": "stderr",
     "output_type": "stream",
     "text": [
      "2024-05-22 16:35:06.274 (  27.679s) [R_workshop_out  ]      data_receiver.cpp:344    ERR| Stream transmission broke off (Input stream error.); re-connecting...\n"
     ]
    }
   ],
   "source": [
    "from threading import Thread\n",
    "from IPython.display import clear_output\n",
    "\n",
    "clear_output()\n",
    "\n",
    "run_time = 20                                                       # Samples will be generated and collected for 20 seconds\n",
    "\n",
    "# Demo: Run the sampler & outlet in a separate CPU thread to circumvent Jupyter limitations\n",
    "# You probably don't need/want to do this in any real-world application (not threading, just running the outlet & inlet in a single script)\n",
    "\n",
    "def run_sampling(run_time):                              \n",
    "    outlet = create_outlet()\n",
    "\n",
    "    while run_time > 0:\n",
    "        output_random_sample(outlet)\n",
    "        time.sleep(1)                                               # Artifically sleep for 1s between samples (1Hz sampling rate)\n",
    "        run_time -= 1                                               # n-1 seconds left for sampling\n",
    "    \n",
    "    print('Sample output complete!')\n",
    "\n",
    "sampler = Thread(target = run_sampling, args = [run_time])          # Assign our outlet to a separate CPU thread\n",
    "sampler.start()\n",
    "\n",
    "# Pull samples from the network\n",
    "\n",
    "inlet = create_inlet()\n",
    "\n",
    "while run_time > 0:\n",
    "    pull_random_sample(inlet)\n",
    "    run_time -= 1                                                   # the run_time variable has separate instances for this main thread and the sampling thread so we have to deduct this here as well\n",
    "\n",
    "inlet.close_stream()                                                # Close the inlet! This allows our program to finish. Otherwise, LSL will hang indefinitely waiting to reconnect. This is a great safety feature but for the demo a bit annoying..."
   ]
  },
  {
   "cell_type": "markdown",
   "metadata": {},
   "source": [
    "You might have noticed a couple of things above. First of all, the first sample that was pushed to the outlet was not captured by the inlet. This is because the inlet takes a bit to be initialized, making it recommended that you start your logger script slightly ahead of your sampler script. In the example, we could change this by e.g. adding a `sleep` of 1-2 seconds at the beginning of `run_sampling`.\n",
    "\n",
    "Second, you might have noticed that while the received samples round out to the ones we push to the outlet, they are not exact. This is a floating point error that is inherent to Python's implementation of decimal values (see [this documentation page](https://docs.python.org/3/tutorial/floatingpoint.html) for more information). If you recall, our stream's type was defined as `float32`. If, somehow, the values we output to the outlet should be exactly two decimals long, we could **a)** multiply the rounded values by 10 and convert them to integers, **b)** convert them to [integer ratios](https://docs.python.org/3/library/stdtypes.html#float.as_integer_ratio) before pushing them to the network or **c)** render them as strings before pushing them to the network. \n",
    "\n",
    "**HOWEVER**, you probably will be working with devices that output floats with *n* decimals anyway, and the better practice is to **log everything raw** and do the processing during data analysis."
   ]
  }
 ],
 "metadata": {
  "kernelspec": {
   "display_name": "lsl-ws",
   "language": "python",
   "name": "python3"
  },
  "language_info": {
   "codemirror_mode": {
    "name": "ipython",
    "version": 3
   },
   "file_extension": ".py",
   "mimetype": "text/x-python",
   "name": "python",
   "nbconvert_exporter": "python",
   "pygments_lexer": "ipython3",
   "version": "3.12.3"
  }
 },
 "nbformat": 4,
 "nbformat_minor": 2
}
