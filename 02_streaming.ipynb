{
 "cells": [
  {
   "cell_type": "markdown",
   "metadata": {},
   "source": [
    "# Streaming\n",
    "\n",
    "It's time to get hands-on with LSL. In this part, we'll be creating an LSL stream and capturing it with a server."
   ]
  },
  {
   "cell_type": "markdown",
   "metadata": {},
   "source": [
    "## Stream Outlet\n",
    "\n",
    "Let's create a stream outlet that can be used to push single-channel data to the LSL network. The outlet needs to be constructed with information detailing:\n",
    "\n",
    "- The name of the stream\n",
    "- The type of the stream\n",
    "- The number of channels the stream uses\n",
    "- The sampling rate the stream is updated at\n",
    "- The type of value the stream outputs\n",
    "- A (should-be) unique identifier for the stream"
   ]
  },
  {
   "cell_type": "code",
   "execution_count": null,
   "metadata": {},
   "outputs": [],
   "source": [
    "from pylsl import StreamInfo, StreamOutlet\n",
    "\n",
    "def create_outlet():\n",
    "    name = 'workshop_outlet'                                                                # The name of the outlet\n",
    "    type = 'single_stream'                                                                  # Stream type. This can be anything, but should probably be descriptive of what data is going through (e.g. EDA, EEG, Markers)\n",
    "    n_of_channels = 1                                                                       # Single-channel data\n",
    "    samping_rate = 1                                                                        # 1Hz = 1 sample per second\n",
    "    value_type = 'float32'                                                                  # The type that all stream values should be.\n",
    "    outlet_id = 'workshop_outlet_1234'                                                      # An unique identifier used to resolve streams when pulling data from the LSL network\n",
    "\n",
    "    stream = StreamInfo(name, type, n_of_channels, samping_rate, value_type, outlet_id)     # Establish the details of the stream\n",
    "    outlet = StreamOutlet(stream)                                                           # Create the outlet\n",
    "\n",
    "    return outlet"
   ]
  },
  {
   "cell_type": "markdown",
   "metadata": {},
   "source": [
    "Next, let's define a function that generates random floating point numbers with max. 2 decimals and pushes them through the outlet. Note that since outlets can be used to push samples of various numbers of channels, we need to wrap our sample in an array `[]` when sending it, even if we defined the stream to be one channel earlier.\n",
    "\n"
   ]
  },
  {
   "cell_type": "code",
   "execution_count": null,
   "metadata": {},
   "outputs": [],
   "source": [
    "import time\n",
    "import random\n",
    "\n",
    "def output_random_sample(target_outlet):\n",
    "    random_sample = round(random.random(), 2)                                               # Generate a random floating point value between 0 and 1 and round it to 2 decimals.\n",
    "    print('Outputting random sample:', random_sample)                                       # Print out the sample we just generated\n",
    "\n",
    "    target_outlet.push_sample([random_sample])                                              # Push the sample through the outlet"
   ]
  },
  {
   "cell_type": "markdown",
   "metadata": {},
   "source": [
    "Finally, let's try to run the function. You should see a new printout every second. \n",
    "\n",
    "Note three things about the code below:\n",
    "- To keep the notebook clean, we are using the `clear_output` function from IPython to remove previous outputs.\n",
    "- We defined our sampling rate to be 1Hz, so we're using Python's `time.sleep` to artificially delay each loop execution by 1 second\n",
    "- As it has been hard-coded to run indefinitely, you can stop the output by pressing the stop button next to the cell."
   ]
  },
  {
   "cell_type": "code",
   "execution_count": null,
   "metadata": {},
   "outputs": [],
   "source": [
    "from IPython.display import clear_output\n",
    "\n",
    "outlet = create_outlet()\n",
    "\n",
    "while True:\n",
    "    clear_output()                                                                          # Clear the output below the cell so that only one value is displayed at atime\n",
    "\n",
    "    output_random_sample(outlet)\n",
    "    time.sleep(1)                                                                           # Wait for 1 second until the next loop"
   ]
  },
  {
   "cell_type": "markdown",
   "metadata": {},
   "source": [
    "## Stream Inlet\n",
    "\n",
    "Now we know how to push data to the LSL network, but how do we make use of it? \n",
    "\n",
    "As mentioned in part 1, we now need to create an inlet. To create an inlet, we need to resolve available streams in the network. \n",
    "\n",
    "> You could resolve all streams at once if you wanted to, but here we'll filter out everything that doesn't possess our unique stream identifier. Take a look at [the liblsl documentation for the `stream_info` class](https://labstreaminglayer.readthedocs.io/projects/liblsl/ref/streaminfo.html?highlight=streaminfo) to see the parameter names that can be used to filter streams (here, `source_id` refers to the value we gave our `outlet_id` variable above)."
   ]
  },
  {
   "cell_type": "code",
   "execution_count": null,
   "metadata": {},
   "outputs": [],
   "source": [
    "from pylsl import StreamInlet, resolve_stream\n",
    "\n",
    "def create_inlet():\n",
    "    stream = resolve_stream('source_id', 'workshop_outlet_1234')[0]                     # Find streams with our desired ID and grab the first one (the function returns an array)\n",
    "    inlet = StreamInlet(stream)                                                         # Establish an inlet that data can be pulled through\n",
    "    return inlet"
   ]
  },
  {
   "cell_type": "markdown",
   "metadata": {},
   "source": [
    "Next, let's write a function that pulls a sample from an inlet. Notable here is that when pulling the sample we can also access its timestamp. The ease of this (no configuration required on our part) is one of the core features that make LSL such an attractive solution for research.\n",
    "\n",
    "The `pull_sample` function returns a tuple, which we then destructure (unpack) to two variables: `samples`, which is an array containing our sample, and `ts`, which is the timestamp for when the sample was pushed through the outlet."
   ]
  },
  {
   "cell_type": "code",
   "execution_count": null,
   "metadata": {},
   "outputs": [],
   "source": [
    "def pull_random_sample(source_inlet):\n",
    "    samples, ts = source_inlet.pull_sample()\n",
    "    print('Received sample:', samples[0], 'with timestamp', ts)"
   ]
  },
  {
   "cell_type": "markdown",
   "metadata": {},
   "source": [
    "Now, let's demonstrate how we can combine our outlet and inlet and run them in parallel to send and capture data in real time. \n",
    "\n",
    "In a realistic environment, you would probably have two separate scripts: one for gathering samples and pushing them through an outlet, and another for pulling samples from the LSL network and logging them. Due to the limitations of the notebook format, we cannot run two cells at once. That's why in the script below, we use `Thread` to run our random sampler & outlet functionality asynchronously in a separate CPU thread from the one running our inlet.\n",
    "\n",
    "This time, the script runs for 20 seconds."
   ]
  },
  {
   "cell_type": "code",
   "execution_count": null,
   "metadata": {},
   "outputs": [],
   "source": [
    "from threading import Thread\n",
    "from IPython.display import clear_output\n",
    "\n",
    "clear_output()\n",
    "\n",
    "run_time = 20                                                       # Samples will be generated and collected for 20 seconds\n",
    "\n",
    "# Demo: Run the sampler & outlet in a separate CPU thread to circumvent Jupyter limitations\n",
    "# You probably don't need/want to do this in any real-world application (not threading, just running the outlet & inlet in a single script)\n",
    "\n",
    "def run_sampling(run_time):                              \n",
    "    outlet = create_outlet()\n",
    "\n",
    "    while run_time > 0:\n",
    "        output_random_sample(outlet)\n",
    "        time.sleep(1)                                               # Artifically sleep for 1s between samples (1Hz sampling rate)\n",
    "        run_time -= 1                                               # n-1 seconds left for sampling\n",
    "    \n",
    "    print('Sample output complete!')\n",
    "\n",
    "sampler = Thread(target = run_sampling, args = [run_time])          # Assign our outlet to a separate CPU thread\n",
    "sampler.start()\n",
    "\n",
    "# Pull samples from the network\n",
    "\n",
    "inlet = create_inlet()\n",
    "\n",
    "while run_time > 0:\n",
    "    pull_random_sample(inlet)\n",
    "    run_time -= 1                                                   # the run_time variable has separate instances for this main thread and the sampling thread so we have to deduct this here as well\n",
    "\n",
    "inlet.close_stream()                                                # Close the inlet! This allows our program to finish. Otherwise, LSL will hang indefinitely waiting to reconnect. This is a great safety feature but for the demo a bit annoying..."
   ]
  },
  {
   "cell_type": "markdown",
   "metadata": {},
   "source": [
    "You might have noticed a couple of things above. First of all, the first sample that was pushed to the outlet was not captured by the inlet. This is because the inlet takes a bit to be initialized, making it recommended that you start your logger script slightly ahead of your sampler script. In the example, we could change this by e.g. adding a `sleep` of 1-2 seconds at the beginning of `run_sampling`.\n",
    "\n",
    "Second, you might have noticed that while the received samples round out to the ones we push to the outlet, they are not exact. This is a floating point error that is inherent to Python's implementation of decimal values (see [this documentation page](https://docs.python.org/3/tutorial/floatingpoint.html) for more information). If you recall, our stream's type was defined as `float32`. If, somehow, the values we output to the outlet should be exactly two decimals long, we could **a)** multiply the rounded values by 10 and convert them to integers, **b)** convert them to [integer ratios](https://docs.python.org/3/library/stdtypes.html#float.as_integer_ratio) before pushing them to the network or **c)** render them as strings before pushing them to the network. \n",
    "\n",
    "**HOWEVER**, you probably will be working with devices that output floats with *n* decimals anyway, and the better practice is to **log everything raw** and do the processing during data analysis."
   ]
  },
  {
   "cell_type": "markdown",
   "metadata": {},
   "source": [
    "## Marker Streams\n",
    "\n",
    "When working with continuous data, you usually want to be able to connect changes in the information to events in the real world. For example, if collecting the electrodermal activity of participants in order to measure activation when interacting with an application, you probably want to know when things within the application are updated (e.g. view change, key press, activity begins/ends). Similarly, in more controlled experiments, you want to know when a stimulus begins and ends in order to be able to segment the continuous data for analysis. Even if using something like a room temperature sensor, you might be interested in events like changing the air conditioning, turning on a certain electronic device or when the sensor is restarted.\n",
    "\n",
    "Data points signifying discrete events are called **markers**. In LSL terms, a marker stream is no different from a regular stream - the difference is your implementation: markers are tied to activities and sent irregularly. You can use integers as markers, but a string (text) is usually more helpful, especially if you're sending trial configuration information.\n",
    "\n",
    "Let's edit our code from earlier to set up a string marker outlet."
   ]
  },
  {
   "cell_type": "code",
   "execution_count": null,
   "metadata": {},
   "outputs": [],
   "source": [
    "def create_marker_outlet():\n",
    "    name = 'workshop_marker_outlet'                                                         # The name of the outlet\n",
    "    type = 'single_stream'                                                                  # Stream type. This can be anything, but should probably be descriptive of what data is going through (e.g. EDA, EEG, Markers)\n",
    "    n_of_channels = 1                                                                       # Single-channel data\n",
    "    sampling_rate = 0                                                                       # 0Hz = 0 samples / second -> Indicates irregular sampling rate\n",
    "    value_type = 'string'                                                                   # The type that all stream values should be. This time we're sending strings.\n",
    "    outlet_id = 'workshop_outlet_5679'                                                      # An unique identifier used to resolve streams when pulling data from the LSL network\n",
    "\n",
    "    stream = StreamInfo(name, type, n_of_channels, sampling_rate, value_type, outlet_id)    # Establish the details of the stream\n",
    "    outlet = StreamOutlet(stream)                                                           # Create the outlet\n",
    "\n",
    "    return outlet\n",
    "\n",
    "def output_marker(marker_text, target_outlet):                                              # Take the marker as a parameter\n",
    "    print('Outputting random sample:', marker_text)                                         # Print out the marker\n",
    "\n",
    "    target_outlet.push_sample([marker_text])                                                # Push the marker through the outlet"
   ]
  },
  {
   "cell_type": "markdown",
   "metadata": {},
   "source": [
    "Besides changing the name and ID of the outlet, note that we changed the `value_type` to string, since we're sending string markers. We've also changed `sampling_rate` to 0, which indicates that samples (markers) are pushed to the outlet irregularly. In the `output_marker` function, we've now parameterized the marker contents.\n",
    "\n",
    "Let's demonstrate this by sending different markers for left and right arrow key presses. When the left arrow key is pressed, a marker with the text `left` is pushed. Likewise `right` is pushed when the right arrow key is pressed. Note that this is a very simplistic use of the [`keyboard`](https://github.com/boppreh/keyboard) library; if a key is held down, markers will continue to be sent. It might be better to use `on_press_key` or `on_release_key` hooks (depending on your need) to only log each key press only once."
   ]
  },
  {
   "cell_type": "code",
   "execution_count": null,
   "metadata": {},
   "outputs": [],
   "source": [
    "import keyboard                                                                                         # Use the keyboard module to detect if a key is pressed\n",
    "\n",
    "outlet = create_marker_outlet()\n",
    "\n",
    "while True:\n",
    "    clear_output()                                                                                      # Clear the output below the cell so that only one value is displayed at atime\n",
    "    if keyboard.is_pressed('left'):                                                                     # If the left arrow key is pressed\n",
    "        output_marker('left', outlet)                                                                   # Push 'left' to the outlet\n",
    "        time.sleep(1)                                                                                   # Wait for 1 second until the next loop\n",
    "    elif keyboard.is_pressed('right'):                                                                  # If the right arrow key is pressed\n",
    "        output_marker('right', outlet)                                                                  # Push 'right' to the outlet\n",
    "        time.sleep(1)                                                                                   # Wait for 1 second until the next loop\n"
   ]
  }
 ],
 "metadata": {
  "kernelspec": {
   "display_name": "lsl-ws",
   "language": "python",
   "name": "python3"
  },
  "language_info": {
   "codemirror_mode": {
    "name": "ipython",
    "version": 3
   },
   "file_extension": ".py",
   "mimetype": "text/x-python",
   "name": "python",
   "nbconvert_exporter": "python",
   "pygments_lexer": "ipython3",
   "version": "3.12.3"
  }
 },
 "nbformat": 4,
 "nbformat_minor": 2
}
