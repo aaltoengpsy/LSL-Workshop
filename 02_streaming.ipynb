{
 "cells": [
  {
   "cell_type": "markdown",
   "metadata": {},
   "source": [
    "# Streaming\n",
    "\n",
    "It's time to get hands-on with LSL. In this part, we'll be creating an LSL stream and capturing it with a server."
   ]
  },
  {
   "cell_type": "markdown",
   "metadata": {},
   "source": [
    "## Stream Outlet\n",
    "\n",
    "Let's create a stream outlet that can be used to push single-channel data to the LSL network. The outlet needs to be constructed with information detailing:\n",
    "\n",
    "- The name of the stream\n",
    "- The type of the stream\n",
    "- The number of channels the stream uses\n",
    "- The sampling rate the stream is updated at\n",
    "- The type of value the stream outputs\n",
    "- A (should-be) unique identifier for the stream"
   ]
  },
  {
   "cell_type": "code",
   "execution_count": null,
   "metadata": {},
   "outputs": [],
   "source": [
    "from pylsl import StreamInfo, StreamOutlet\n",
    "\n",
    "name = 'workshop_outlet'                                                                # The name of the outlet\n",
    "type = 'single_stream'                                                                  # Stream type. This can be anything, but should probably be descriptive of what data is going through (e.g. EDA, EEG, Markers)\n",
    "n_of_channels = 1                                                                       # Single-channel data\n",
    "samping_rate = 1                                                                        # 1Hz = 1 sample per second\n",
    "value_type = 'float32'                                                                  # The type that all stream values should be.\n",
    "outlet_id = 'workshop_outlet_1234'                                                      # An unique identifier used to resolve stream when pulling data from the LSL network\n",
    "\n",
    "stream = StreamInfo(name, type, n_of_channels, samping_rate, value_type, outlet_id)     # Establish the details of the stream\n",
    "outlet = StreamOutlet(stream)                                                           # Create the outlet"
   ]
  },
  {
   "cell_type": "markdown",
   "metadata": {},
   "source": [
    "Next, let's define a function that generates random floating point numbers with max. 2 decimals and pushes them through the outlet. Note that since outlets can be used to push samples of various numbers of channels, we need to wrap our sample in an array `[]` when sending it, even if we defined the stream to be one channel earlier.\n",
    "\n"
   ]
  },
  {
   "cell_type": "code",
   "execution_count": null,
   "metadata": {},
   "outputs": [],
   "source": [
    "import time\n",
    "import random\n",
    "\n",
    "def output_random_sample():\n",
    "    random_sample = round(random.random(), 2)                                       # Generate a random floating point value between 0 and 1 and round it to 2 decimals.\n",
    "    print('Outputting random sample:', random_sample)                               # Print out the sample we just generated\n",
    "\n",
    "    outlet.push_sample([random_sample])                                             # Push the sample through the outlet"
   ]
  },
  {
   "cell_type": "markdown",
   "metadata": {},
   "source": [
    "Finally, let's try to run the function. You should see a new printout every second. \n",
    "\n",
    "Note three things about the code below:\n",
    "- To keep the notebook clean, we are using the `clear_output` function from IPython to remove previous outputs.\n",
    "- We defined our sampling rate to be 1Hz, so we're using Python's `time.sleep` to artificially delay each loop execution by 1 second\n",
    "- As it has been hard-coded to run indefinitely, you can stop the output by pressing the stop button next to the cell."
   ]
  },
  {
   "cell_type": "code",
   "execution_count": null,
   "metadata": {},
   "outputs": [],
   "source": [
    "from IPython.display import clear_output\n",
    "\n",
    "while True:\n",
    "    clear_output()                                                                  # Clear the output below the cell so that only one value is displayed at atime\n",
    "\n",
    "    output_random_sample()\n",
    "    time.sleep(1)                                                                   # Wait for 1 second until the next loop"
   ]
  }
 ],
 "metadata": {
  "kernelspec": {
   "display_name": "lsl-ws",
   "language": "python",
   "name": "python3"
  },
  "language_info": {
   "codemirror_mode": {
    "name": "ipython",
    "version": 3
   },
   "file_extension": ".py",
   "mimetype": "text/x-python",
   "name": "python",
   "nbconvert_exporter": "python",
   "pygments_lexer": "ipython3",
   "version": "3.12.3"
  }
 },
 "nbformat": 4,
 "nbformat_minor": 2
}
